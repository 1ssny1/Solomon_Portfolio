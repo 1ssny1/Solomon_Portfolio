{
 "cells": [
  {
   "cell_type": "markdown",
   "id": "e84924d7",
   "metadata": {},
   "source": [
    "# Predicting Titanic Survivors\n",
    "\n"
   ]
  },
  {
   "cell_type": "markdown",
   "id": "96373872",
   "metadata": {},
   "source": [
    "### Setup Imports"
   ]
  },
  {
   "cell_type": "code",
   "execution_count": null,
   "id": "f14f8691",
   "metadata": {},
   "outputs": [],
   "source": [
    "import pandas as pd\n",
    "from pandas import Series, DataFrame\n",
    "import numpy as np\n",
    "import matplotlib.pyplot as plt\n",
    "import seaborn as sns\n",
    "%matplotlib inline"
   ]
  },
  {
   "cell_type": "markdown",
   "id": "608b66de",
   "metadata": {},
   "source": [
    "### Getting the Data"
   ]
  },
  {
   "cell_type": "code",
   "execution_count": null,
   "id": "8d6e3a98",
   "metadata": {},
   "outputs": [],
   "source": [
    "titanic_df = pd.read_csv('train.csv')"
   ]
  },
  {
   "cell_type": "markdown",
   "id": "f7da929b",
   "metadata": {},
   "source": [
    "### Getting basic info on the data"
   ]
  },
  {
   "cell_type": "code",
   "execution_count": null,
   "id": "8f05528c",
   "metadata": {},
   "outputs": [],
   "source": [
    "# Previewing the Data\n",
    "titanic_df.head()"
   ]
  },
  {
   "cell_type": "code",
   "execution_count": null,
   "id": "2091b74e",
   "metadata": {},
   "outputs": [],
   "source": [
    "# Overall general info\n",
    "titanic_df.info()"
   ]
  },
  {
   "cell_type": "code",
   "execution_count": null,
   "id": "6ea6e320",
   "metadata": {},
   "outputs": [],
   "source": [
    "# Viewing the data types of each column\n",
    "titanic_df.dtypes"
   ]
  },
  {
   "cell_type": "code",
   "execution_count": null,
   "id": "29fb2ac9",
   "metadata": {},
   "outputs": [],
   "source": [
    "titanic_df.describe()"
   ]
  },
  {
   "cell_type": "markdown",
   "id": "32bb16e7",
   "metadata": {},
   "source": [
    "### Exploring the data\n",
    "\n",
    "Lets try and answer some important questions like"
   ]
  },
  {
   "cell_type": "markdown",
   "id": "5a023983",
   "metadata": {},
   "source": [
    "* Who was on the titanic\n",
    "* Who survived the titanic\n",
    "* What factors may have lead to their survival"
   ]
  },
  {
   "cell_type": "markdown",
   "id": "8b18642d",
   "metadata": {},
   "source": [
    "Who was on the titanic"
   ]
  },
  {
   "cell_type": "code",
   "execution_count": null,
   "id": "d972d438",
   "metadata": {},
   "outputs": [],
   "source": [
    "import warnings\n",
    "warnings.filterwarnings(\"ignore\")\n",
    "# Graphing by Gender\n",
    "sns.catplot('Sex',data=titanic_df,kind=\"count\")"
   ]
  },
  {
   "cell_type": "code",
   "execution_count": null,
   "id": "6a9d5d61",
   "metadata": {},
   "outputs": [],
   "source": [
    "# Graphing by class\n",
    "sns.catplot('Pclass',data=titanic_df,hue='Sex',kind=\"count\")"
   ]
  },
  {
   "cell_type": "markdown",
   "id": "1f4a6797",
   "metadata": {},
   "source": [
    "Lets find out how many children were onboard"
   ]
  },
  {
   "cell_type": "code",
   "execution_count": null,
   "id": "f00a49e1",
   "metadata": {},
   "outputs": [],
   "source": [
    "def male_female_child(passenger):\n",
    "    age,sex = passenger\n",
    "    if age < 16:\n",
    "        return 'child'\n",
    "    else:\n",
    "        return sex"
   ]
  },
  {
   "cell_type": "code",
   "execution_count": null,
   "id": "97fa534f",
   "metadata": {},
   "outputs": [],
   "source": [
    "titanic_df['person'] = titanic_df[['Age','Sex']].apply(male_female_child,axis=1)"
   ]
  },
  {
   "cell_type": "code",
   "execution_count": null,
   "id": "f8bc9543",
   "metadata": {},
   "outputs": [],
   "source": [
    "sns.catplot('Pclass',data=titanic_df,hue='person',kind='count')"
   ]
  },
  {
   "cell_type": "markdown",
   "id": "fb778d7f",
   "metadata": {},
   "source": [
    "Surprisingly most of the children are located in 3rd class"
   ]
  },
  {
   "cell_type": "code",
   "execution_count": null,
   "id": "2d5ada0b",
   "metadata": {},
   "outputs": [],
   "source": [
    "# Graphing age\n",
    "titanic_df['Age'].hist(bins=70)"
   ]
  },
  {
   "cell_type": "code",
   "execution_count": null,
   "id": "3c338004",
   "metadata": {},
   "outputs": [],
   "source": [
    "titanic_df['Age'].mean()"
   ]
  },
  {
   "cell_type": "code",
   "execution_count": null,
   "id": "fa7930f0",
   "metadata": {},
   "outputs": [],
   "source": [
    "titanic_df['Age'].median()"
   ]
  },
  {
   "cell_type": "code",
   "execution_count": null,
   "id": "999ef70b",
   "metadata": {},
   "outputs": [],
   "source": [
    "titanic_df['person'].value_counts()"
   ]
  },
  {
   "cell_type": "code",
   "execution_count": null,
   "id": "a4b9691b",
   "metadata": {},
   "outputs": [],
   "source": [
    "fig = sns.FacetGrid(titanic_df,hue='Sex',aspect=4)\n",
    "fig.map(sns.kdeplot,'Age',shade=True)\n",
    "\n",
    "oldest = titanic_df['Age'].max()\n",
    "\n",
    "fig.set(xlim=(0,oldest))\n",
    "fig.add_legend()"
   ]
  },
  {
   "cell_type": "code",
   "execution_count": null,
   "id": "45ec8631",
   "metadata": {},
   "outputs": [],
   "source": [
    "fig = sns.FacetGrid(titanic_df,hue='person',aspect=4)\n",
    "fig.map(sns.kdeplot,'Age',shade=True)\n",
    "\n",
    "oldest = titanic_df['Age'].max()\n",
    "\n",
    "fig.set(xlim=(0,oldest))\n",
    "fig.add_legend()"
   ]
  },
  {
   "cell_type": "code",
   "execution_count": null,
   "id": "66a62ed5",
   "metadata": {},
   "outputs": [],
   "source": [
    "fig = sns.FacetGrid(titanic_df,hue='Pclass',aspect=4)\n",
    "fig.map(sns.kdeplot,'Age',shade=True)\n",
    "\n",
    "oldest = titanic_df['Age'].max()\n",
    "\n",
    "fig.set(xlim=(0,oldest))\n",
    "fig.add_legend()"
   ]
  },
  {
   "cell_type": "code",
   "execution_count": null,
   "id": "9f1dea3d",
   "metadata": {},
   "outputs": [],
   "source": [
    "deck = titanic_df['Cabin'].dropna()\n",
    "deck.head()"
   ]
  },
  {
   "cell_type": "code",
   "execution_count": null,
   "id": "6e5a8e01",
   "metadata": {},
   "outputs": [],
   "source": [
    "levels = []\n",
    "\n",
    "for level in deck:\n",
    "    levels.append(level[0])\n",
    "\n",
    "cabin_df = DataFrame(levels)\n",
    "cabin_df.columns = ['Cabin']\n",
    "cabin_df = cabin_df[cabin_df.Cabin != 'T']\n",
    "\n",
    "sns.catplot('Cabin',data=cabin_df,order='ABCDEFG',kind='count',palette='winter_d')"
   ]
  },
  {
   "cell_type": "markdown",
   "id": "2d13efcc",
   "metadata": {},
   "source": [
    "Where did they depart from?"
   ]
  },
  {
   "cell_type": "code",
   "execution_count": null,
   "id": "4c79750c",
   "metadata": {},
   "outputs": [],
   "source": [
    "sns.catplot('Embarked',data=titanic_df,hue='Pclass',kind='count'\n",
    "               ,order=['C','Q','S'])"
   ]
  },
  {
   "cell_type": "markdown",
   "id": "47c0269e",
   "metadata": {},
   "source": [
    "Family compositions on the Titanic"
   ]
  },
  {
   "cell_type": "code",
   "execution_count": null,
   "id": "153e60cd",
   "metadata": {},
   "outputs": [],
   "source": [
    "titanic_df.head()"
   ]
  },
  {
   "cell_type": "code",
   "execution_count": null,
   "id": "6fcc74f7",
   "metadata": {},
   "outputs": [],
   "source": [
    "titanic_df['Alone'] = titanic_df.SibSp + titanic_df.Parch"
   ]
  },
  {
   "cell_type": "code",
   "execution_count": null,
   "id": "a9438757",
   "metadata": {},
   "outputs": [],
   "source": [
    "index_1 = titanic_df.Alone > 0\n",
    "index_2 = titanic_df.Alone == 0\n",
    "\n",
    "titanic_df.loc[index_1, 'Alone'] = 'With Family'\n",
    "titanic_df.loc[index_2, 'Alone'] = 'Alone'"
   ]
  },
  {
   "cell_type": "code",
   "execution_count": null,
   "id": "e8718991",
   "metadata": {},
   "outputs": [],
   "source": [
    "titanic_df.head()"
   ]
  },
  {
   "cell_type": "code",
   "execution_count": null,
   "id": "840c2683",
   "metadata": {},
   "outputs": [],
   "source": [
    "# Graphing who was alone\n",
    "sns.catplot('Alone',data=titanic_df,palette='Blues',kind='count')"
   ]
  },
  {
   "cell_type": "markdown",
   "id": "f831d9a3",
   "metadata": {},
   "source": [
    "## Who Survived the Titanic"
   ]
  },
  {
   "cell_type": "code",
   "execution_count": null,
   "id": "21ca7aef",
   "metadata": {},
   "outputs": [],
   "source": [
    "titanic_df['Survivor'] = titanic_df.Survived.map({0:'no',1:'yes'})\n",
    "\n",
    "sns.catplot('Survivor',data=titanic_df,kind='count')"
   ]
  },
  {
   "cell_type": "markdown",
   "id": "22d3e7fe",
   "metadata": {},
   "source": [
    "Women and Children first right?\n",
    "Lets find out"
   ]
  },
  {
   "cell_type": "code",
   "execution_count": null,
   "id": "8e790cc4",
   "metadata": {},
   "outputs": [],
   "source": [
    "# Graphing by the sex/age\n",
    "sns.catplot('Pclass','Survived',hue='person',data=titanic_df)"
   ]
  },
  {
   "cell_type": "code",
   "execution_count": null,
   "id": "93cc9f57",
   "metadata": {},
   "outputs": [],
   "source": [
    "sns.lmplot('Age','Survived',data=titanic_df)"
   ]
  },
  {
   "cell_type": "code",
   "execution_count": null,
   "id": "7bd957b7",
   "metadata": {},
   "outputs": [],
   "source": [
    "sns.lmplot('Age','Survived',hue='Pclass',palette='winter',data=titanic_df)"
   ]
  },
  {
   "cell_type": "code",
   "execution_count": null,
   "id": "9ff27362",
   "metadata": {},
   "outputs": [],
   "source": [
    "generations = [10,20,40,60,80]\n",
    "\n",
    "sns.lmplot('Age','Survived',hue='Pclass',palette='winter',data=titanic_df,x_bins=generations)"
   ]
  },
  {
   "cell_type": "code",
   "execution_count": null,
   "id": "89ee11a0",
   "metadata": {},
   "outputs": [],
   "source": [
    "sns.lmplot('Age','Survived',hue='Sex',data=titanic_df,palette='winter_d',x_bins=generations)"
   ]
  },
  {
   "cell_type": "code",
   "execution_count": null,
   "id": "28debcf3",
   "metadata": {},
   "outputs": [],
   "source": [
    "levels_df = titanic_df.dropna()\n",
    "levels_df.head()"
   ]
  },
  {
   "cell_type": "code",
   "execution_count": null,
   "id": "12ba0efc",
   "metadata": {},
   "outputs": [],
   "source": [
    "char_cabin = titanic_df[\"Cabin\"].astype(str)\n",
    "\n",
    "new_Cabin = np.array([cabin[0] for cabin in char_cabin])\n",
    "\n",
    "new_Cabin = pd.Categorical(new_Cabin)\n",
    "\n",
    "new_Cabin.describe()"
   ]
  },
  {
   "cell_type": "code",
   "execution_count": null,
   "id": "31b19151",
   "metadata": {},
   "outputs": [],
   "source": [
    "titanic_df['Deck'] = new_Cabin\n",
    "titanic_df.head()"
   ]
  },
  {
   "cell_type": "code",
   "execution_count": null,
   "id": "b57f32a8",
   "metadata": {},
   "outputs": [],
   "source": [
    "# Just getting values with a deck level\n",
    "deck_df = titanic_df[titanic_df.Deck != 'n']\n",
    "deck_df = deck_df[deck_df.Deck != 'T']\n",
    "deck_df.head()"
   ]
  },
  {
   "cell_type": "code",
   "execution_count": null,
   "id": "ab6049a6",
   "metadata": {},
   "outputs": [],
   "source": [
    "deck_df.describe()"
   ]
  },
  {
   "cell_type": "code",
   "execution_count": null,
   "id": "81f990ec",
   "metadata": {},
   "outputs": [],
   "source": [
    "sns.lmplot('Age','Survived',hue=\"Deck\", data=deck_df,palette='winter',\n",
    "           hue_order=['A','B','C','D','E','F','G'], x_bins=generations).set(ylim=[-0.4,1.4])"
   ]
  },
  {
   "cell_type": "code",
   "execution_count": null,
   "id": "9944320e",
   "metadata": {},
   "outputs": [],
   "source": [
    "sns.factorplot('Deck','Survived',data=deck_df, palette='winter', order=['A','B','C','D','E','F','G'])"
   ]
  },
  {
   "cell_type": "code",
   "execution_count": null,
   "id": "64bd81ec",
   "metadata": {},
   "outputs": [],
   "source": [
    "sns.catplot('Survivor',hue='Deck', data=deck_df, palette='winter',\n",
    "               hue_order=['A','B','C','D','E','F','G'], kind=\"count\")"
   ]
  },
  {
   "cell_type": "code",
   "execution_count": null,
   "id": "a3d1c248",
   "metadata": {},
   "outputs": [],
   "source": [
    "sns.lmplot('Age','Survived',hue='Alone',data=titanic_df,palette='winter',x_bins=generations)"
   ]
  },
  {
   "cell_type": "code",
   "execution_count": null,
   "id": "f811caa6",
   "metadata": {},
   "outputs": [],
   "source": [
    "sns.catplot('Alone',hue='Survivor',data=titanic_df,palette='winter',kind=\"count\", hue_order=['yes','no'])"
   ]
  },
  {
   "cell_type": "markdown",
   "id": "92454df2",
   "metadata": {},
   "source": [
    "You were more likely to survive if you went on the titanic with family"
   ]
  },
  {
   "cell_type": "markdown",
   "id": "6d00ad37",
   "metadata": {},
   "source": [
    "# Predicting Who Survived"
   ]
  },
  {
   "cell_type": "code",
   "execution_count": null,
   "id": "8ab38b1d",
   "metadata": {},
   "outputs": [],
   "source": [
    "from sklearn.linear_model import LogisticRegression\n",
    "from sklearn.model_selection import train_test_split"
   ]
  },
  {
   "cell_type": "code",
   "execution_count": null,
   "id": "7a9dc1a8",
   "metadata": {},
   "outputs": [],
   "source": [
    "train_df = pd.read_csv('train.csv')\n",
    "train_df.describe()"
   ]
  },
  {
   "cell_type": "markdown",
   "id": "283c47d6",
   "metadata": {},
   "source": [
    "First we have to take care of the nulls and convert our strings to numbers"
   ]
  },
  {
   "cell_type": "code",
   "execution_count": null,
   "id": "7b9458d6",
   "metadata": {},
   "outputs": [],
   "source": [
    "# Replaicng missing values\n",
    "\n",
    "# Filling missing values\n",
    "train_df['Age'] = train_df['Age'].fillna(train_df['Age'].median())\n",
    "train_df['Fare'] = train_df['Fare'].fillna(train_df['Fare'].median())\n",
    "\n",
    "# Filling missing with the most common\n",
    "train_df['Embarked'] = train_df['Embarked'].fillna('S')"
   ]
  },
  {
   "cell_type": "code",
   "execution_count": null,
   "id": "a948b2e8",
   "metadata": {},
   "outputs": [],
   "source": [
    "\n",
    "# Making Columns\n",
    "\n",
    "# Gender/Age\n",
    "train_df['person'] = train_df[['Age','Sex']].apply(male_female_child,axis=1)\n",
    "\n",
    "train_df['Alone'] = train_df.SibSp + train_df.Parch\n",
    "\n",
    "# Alone/With Family\n",
    "index_1 = train_df.Alone > 0\n",
    "index_2 = train_df.Alone == 0\n",
    "\n",
    "train_df.loc[index_1, 'Alone'] = 'With Family'\n",
    "train_df.loc[index_2, 'Alone'] = 'Alone'\n",
    "\n",
    "# Deck\n",
    "train_df['Deck'] = new_Cabin\n",
    "train_df['Deck'] = train_df['Deck'].astype('str')\n",
    "\n",
    "#############################################################################\n",
    "\n",
    "# Replacing sex\n",
    "train_df.loc[train_df['Sex'] == 'male','Sex'] = 0\n",
    "train_df.loc[train_df['Sex'] == 'female','Sex'] = 1\n",
    "\n",
    "# Replacing person\n",
    "train_df.loc[train_df['person'] == 'male','person'] = 0\n",
    "train_df.loc[train_df['person'] == 'female','person'] = 1\n",
    "train_df.loc[train_df['person'] == 'child','person'] = 2\n",
    "\n",
    "\n",
    "# Replacing Location\n",
    "train_df.loc[train_df['Embarked'] == 'S','Embarked'] = 0\n",
    "train_df.loc[train_df['Embarked'] == 'C','Embarked'] = 1\n",
    "train_df.loc[train_df['Embarked'] == 'Q','Embarked'] = 2\n",
    "\n",
    "# Replace Alone\n",
    "train_df.loc[train_df['Alone'] == 'With Family','Alone'] = 0\n",
    "train_df.loc[train_df['Alone'] == 'Alone','Alone'] = 1\n",
    "\n",
    "# Replace Deck 'A','B','C','D','E','F','G', 'T', 'n'\n",
    "train_df.loc[train_df['Deck'] == 'A','Deck'] = 0\n",
    "train_df.loc[train_df['Deck'] == 'B','Deck'] = 1\n",
    "train_df.loc[train_df['Deck'] == 'C','Deck'] = 2\n",
    "train_df.loc[train_df['Deck'] == 'D','Deck'] = 3\n",
    "train_df.loc[train_df['Deck'] == 'E','Deck'] = 4\n",
    "train_df.loc[train_df['Deck'] == 'F','Deck'] = 5\n",
    "train_df.loc[train_df['Deck'] == 'G','Deck'] = 6\n",
    "train_df.loc[train_df['Deck'] == 'T','Deck'] = 7\n",
    "train_df.loc[train_df['Deck'] == 'n','Deck'] = 7\n"
   ]
  },
  {
   "cell_type": "code",
   "execution_count": null,
   "id": "553aee2f",
   "metadata": {},
   "outputs": [],
   "source": [
    "predictors = ['Pclass', 'Sex', 'Age', 'SibSp', 'Parch', 'Fare', 'Embarked', 'person', 'Alone', 'Deck']\n",
    "\n",
    "alg = LogisticRegression(random_state=1)\n",
    "scores = train_test_split(alg, train_df[predictors], train_df['Survived'])\n",
    "\n"
   ]
  },
  {
   "cell_type": "code",
   "execution_count": null,
   "id": "4c891a09",
   "metadata": {},
   "outputs": [],
   "source": [
    "# Test Data\n",
    "\n",
    "test_df = pd.read_csv('test.csv')\n",
    "\n",
    "# Replaicng missing values\n",
    "\n",
    "# Filling missing values\n",
    "test_df['Age'] = test_df['Age'].fillna(train_df['Age'].median())\n",
    "test_df['Fare'] = test_df['Fare'].fillna(train_df['Fare'].median())\n",
    "\n",
    "# Filling missing with the most common\n",
    "test_df['Embarked'] = test_df['Embarked'].fillna('S')"
   ]
  },
  {
   "cell_type": "code",
   "execution_count": null,
   "id": "ccaee166",
   "metadata": {},
   "outputs": [],
   "source": [
    "test_cabin = test_df[\"Cabin\"].astype(str)\n",
    "\n",
    "test_Cabin = np.array([cabin[0] for cabin in test_cabin])\n",
    "\n",
    "test_Cabin = pd.Categorical(test_Cabin)"
   ]
  },
  {
   "cell_type": "code",
   "execution_count": null,
   "id": "4c8a1410",
   "metadata": {},
   "outputs": [],
   "source": [
    "# Making Columns\n",
    "test_df['person'] = test_df[['Age','Sex']].apply(male_female_child,axis=1)\n",
    "\n",
    "test_df['Alone'] = test_df.SibSp + test_df.Parch\n",
    "\n",
    "index_1 = test_df.Alone > 0\n",
    "index_2 = test_df.Alone == 0\n",
    "\n",
    "test_df.loc[index_1, 'Alone'] = 'With Family'\n",
    "test_df.loc[index_2, 'Alone'] = 'Alone'\n",
    "\n",
    "test_df['Deck'] = test_Cabin\n",
    "test_df['Deck'] = test_df['Deck'].astype('str')\n",
    "\n",
    "# Replacing sex\n",
    "test_df.loc[test_df['Sex'] == 'male','Sex'] = 0\n",
    "test_df.loc[test_df['Sex'] == 'female','Sex'] = 1\n",
    "\n",
    "# Replacing person\n",
    "test_df.loc[test_df['person'] == 'male','person'] = 0\n",
    "test_df.loc[test_df['person'] == 'female','person'] = 1\n",
    "test_df.loc[test_df['person'] == 'child','person'] = 2\n",
    "\n",
    "\n",
    "# Replacing Location\n",
    "test_df.loc[test_df['Embarked'] == 'S','Embarked'] = 0\n",
    "test_df.loc[test_df['Embarked'] == 'C','Embarked'] = 1\n",
    "test_df.loc[test_df['Embarked'] == 'Q','Embarked'] = 2\n",
    "\n",
    "# Replace Alone\n",
    "test_df.loc[test_df['Alone'] == 'With Family','Alone'] = 0\n",
    "test_df.loc[test_df['Alone'] == 'Alone','Alone'] = 1\n",
    "\n",
    "# Replace Deck 'A','B','C','D','E','F','G', 'T', 'n'\n",
    "test_df.loc[test_df['Deck'] == 'A','Deck'] = 0\n",
    "test_df.loc[test_df['Deck'] == 'B','Deck'] = 1\n",
    "test_df.loc[test_df['Deck'] == 'C','Deck'] = 2\n",
    "test_df.loc[test_df['Deck'] == 'D','Deck'] = 3\n",
    "test_df.loc[test_df['Deck'] == 'E','Deck'] = 4\n",
    "test_df.loc[test_df['Deck'] == 'F','Deck'] = 5\n",
    "test_df.loc[test_df['Deck'] == 'G','Deck'] = 6\n",
    "test_df.loc[test_df['Deck'] == 'T','Deck'] = 7\n",
    "test_df.loc[test_df['Deck'] == 'n','Deck'] = 7"
   ]
  },
  {
   "cell_type": "code",
   "execution_count": null,
   "id": "8e67b71b",
   "metadata": {},
   "outputs": [],
   "source": [
    "# Predict Test values\n",
    "\n",
    "alg.fit(train_df[predictors],train_df['Survived'])\n",
    "\n",
    "# Make predictions using the test set\n",
    "predictions = alg.predict(test_df[predictors])\n",
    "\n",
    "# Create a new dataframe with only the columns Kaggle wants from the dataset\n",
    "\n",
    "submission = pd.DataFrame({'PassengerId': test_df['PassengerId'], 'Survived': predictions})"
   ]
  },
  {
   "cell_type": "code",
   "execution_count": null,
   "id": "1e4ee187",
   "metadata": {},
   "outputs": [],
   "source": [
    "\n",
    "submission.to_csv('submission.csv')"
   ]
  },
  {
   "cell_type": "code",
   "execution_count": null,
   "id": "6d7770e0",
   "metadata": {},
   "outputs": [],
   "source": []
  }
 ],
 "metadata": {
  "kernelspec": {
   "display_name": "Python 3 (ipykernel)",
   "language": "python",
   "name": "python3"
  },
  "language_info": {
   "codemirror_mode": {
    "name": "ipython",
    "version": 3
   },
   "file_extension": ".py",
   "mimetype": "text/x-python",
   "name": "python",
   "nbconvert_exporter": "python",
   "pygments_lexer": "ipython3",
   "version": "3.9.7"
  }
 },
 "nbformat": 4,
 "nbformat_minor": 5
}
